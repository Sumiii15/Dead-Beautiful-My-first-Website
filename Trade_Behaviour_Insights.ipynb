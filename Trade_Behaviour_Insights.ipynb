{
  "nbformat": 4,
  "nbformat_minor": 0,
  "metadata": {
    "colab": {
      "provenance": [],
      "toc_visible": true,
      "authorship_tag": "ABX9TyMFZvX9PBHj7R054iRIjeLh",
      "include_colab_link": true
    },
    "kernelspec": {
      "name": "python3",
      "display_name": "Python 3"
    },
    "language_info": {
      "name": "python"
    }
  },
  "cells": [
    {
      "cell_type": "markdown",
      "metadata": {
        "id": "view-in-github",
        "colab_type": "text"
      },
      "source": [
        "<a href=\"https://colab.research.google.com/github/Sumiii15/Dead-Beautiful-My-first-Website/blob/main/Trade_Behaviour_Insights.ipynb\" target=\"_parent\"><img src=\"https://colab.research.google.com/assets/colab-badge.svg\" alt=\"Open In Colab\"/></a>"
      ]
    },
    {
      "cell_type": "markdown",
      "source": [
        "**1: Install and Import Libraries**"
      ],
      "metadata": {
        "id": "EWaLWNExjkaK"
      }
    },
    {
      "cell_type": "code",
      "execution_count": 1,
      "metadata": {
        "id": "7sr9I7hxjV3d"
      },
      "outputs": [],
      "source": [
        "import pandas as pd\n",
        "import matplotlib.pyplot as plt\n",
        "import seaborn as sns\n",
        "import numpy as np\n",
        "\n",
        "# Set seaborn style\n",
        "sns.set(style='whitegrid')\n"
      ]
    },
    {
      "cell_type": "markdown",
      "source": [
        "**2: Load the Datasets**"
      ],
      "metadata": {
        "id": "CHWKD_Gzj36m"
      }
    },
    {
      "cell_type": "code",
      "source": [
        "# Load CSVs into DataFrames\n",
        "trader_df = pd.read_csv('historical_data.csv')\n",
        "sentiment_df = pd.read_csv('fear_greed_index.csv')\n",
        "\n",
        "# Preview columns\n",
        "print(\"Trader data columns:\\n\", trader_df.columns)\n",
        "print(\"Sentiment data columns:\\n\", sentiment_df.columns)"
      ],
      "metadata": {
        "colab": {
          "base_uri": "https://localhost:8080/"
        },
        "id": "9dBAOeVmj88k",
        "outputId": "c7a199ba-d0e0-4740-aee6-e4f72af2f94b"
      },
      "execution_count": 24,
      "outputs": [
        {
          "output_type": "stream",
          "name": "stdout",
          "text": [
            "Trader data columns:\n",
            " Index(['Account', 'Coin', 'Execution Price', 'Size Tokens', 'Size USD', 'Side',\n",
            "       'Timestamp IST', 'Start Position', 'Direction', 'Closed PnL',\n",
            "       'Transaction Hash', 'Order ID', 'Crossed', 'Fee', 'Trade ID',\n",
            "       'Timestamp'],\n",
            "      dtype='object')\n",
            "Sentiment data columns:\n",
            " Index(['timestamp', 'value', 'classification', 'date'], dtype='object')\n"
          ]
        }
      ]
    },
    {
      "cell_type": "code",
      "source": [
        "# Convert both date columns to datetime.date with the correct format\n",
        "trader_df['date'] = pd.to_datetime(trader_df['Timestamp IST'], format='%d-%m-%Y %H:%M').dt.date\n",
        "sentiment_df['Date'] = pd.to_datetime(sentiment_df['date']).dt.date  # Ensure the column name matches\n",
        "\n",
        "# Rename sentiment column for merging\n",
        "sentiment_df.rename(columns={'Date': 'date', 'classification': 'Sentiment'}, inplace=True)\n"
      ],
      "metadata": {
        "id": "Y4To-6JWk62U"
      },
      "execution_count": 27,
      "outputs": []
    },
    {
      "cell_type": "code",
      "source": [
        "# Check original 'Sentiment' and 'Closed PnL' columns\n",
        "print(sentiment_df['classification'].unique())  # For sentiment\n",
        "print(trader_df['Closed PnL'].head())           # For Closed PnL in the original trader_df"
      ],
      "metadata": {
        "colab": {
          "base_uri": "https://localhost:8080/"
        },
        "id": "bxiOyiXOt485",
        "outputId": "287fdf5e-bade-4067-fcd6-a50df665a63e"
      },
      "execution_count": 33,
      "outputs": [
        {
          "output_type": "stream",
          "name": "stdout",
          "text": [
            "['Fear' 'Extreme Fear' 'Neutral' 'Greed' 'Extreme Greed']\n",
            "0    0.0\n",
            "1    0.0\n",
            "2    0.0\n",
            "3    0.0\n",
            "4    0.0\n",
            "Name: Closed PnL, dtype: float64\n"
          ]
        }
      ]
    },
    {
      "cell_type": "code",
      "source": [
        "# Remove rows with invalid Sentiment values\n",
        "valid_sentiments = ['Fear', 'Greed', 'Extreme Fear', 'Neutral', 'Extreme Greed']\n",
        "merged_df = merged_df[merged_df['Sentiment'].isin(valid_sentiments)]"
      ],
      "metadata": {
        "id": "3vYeMlBXuQMZ"
      },
      "execution_count": 34,
      "outputs": []
    },
    {
      "cell_type": "code",
      "source": [
        "# Inspect the 'Closed PnL' and 'Sentiment' columns in the original DataFrames\n",
        "print(trader_df['Closed PnL'].unique())  # Before merge, for trader_df\n",
        "print(sentiment_df['classification'].unique())  # Before merge, for sentiment_df"
      ],
      "metadata": {
        "colab": {
          "base_uri": "https://localhost:8080/"
        },
        "id": "Ecw7_IhIu4ny",
        "outputId": "bc1687b7-95d1-422a-be23-103906975ed1"
      },
      "execution_count": 42,
      "outputs": [
        {
          "output_type": "stream",
          "name": "stdout",
          "text": [
            "[   0.       3008.231185   30.741534 ... -112.5773    -22.4402\n",
            "  -53.9063  ]\n",
            "['Fear' 'Extreme Fear' 'Neutral' 'Greed' 'Extreme Greed']\n"
          ]
        }
      ]
    },
    {
      "cell_type": "code",
      "source": [
        "sentiment_df = pd.read_csv(\"fear_greed_index.csv\")  # or .xlsx\n",
        "print(sentiment_df.shape)\n",
        "print(sentiment_df.head())"
      ],
      "metadata": {
        "colab": {
          "base_uri": "https://localhost:8080/"
        },
        "id": "6fnZ7-8oxkFQ",
        "outputId": "33e60b51-6a70-4fac-8e01-294b2e64e176"
      },
      "execution_count": 55,
      "outputs": [
        {
          "output_type": "stream",
          "name": "stdout",
          "text": [
            "(2644, 4)\n",
            "    timestamp  value classification        date\n",
            "0  1517463000     30           Fear  2018-02-01\n",
            "1  1517549400     15   Extreme Fear  2018-02-02\n",
            "2  1517635800     40           Fear  2018-02-03\n",
            "3  1517722200     24   Extreme Fear  2018-02-04\n",
            "4  1517808600     11   Extreme Fear  2018-02-05\n"
          ]
        }
      ]
    },
    {
      "cell_type": "code",
      "source": [
        "# Step 1: Convert 'date' columns to datetime.date\n",
        "trader_df['date'] = pd.to_datetime(trader_df['Timestamp IST'], dayfirst=True, errors='coerce').dt.date\n",
        "sentiment_df['date'] = pd.to_datetime(sentiment_df['date'], errors='coerce').dt.date\n",
        "\n",
        "# Step 2: Rename 'classification' to 'Sentiment'\n",
        "sentiment_df = sentiment_df.rename(columns={'classification': 'Sentiment'})\n",
        "\n",
        "# Step 3: Merge on 'date'\n",
        "merged_df = pd.merge(trader_df, sentiment_df[['date', 'Sentiment']], on='date', how='left')\n",
        "\n",
        "# Step 4: Check results\n",
        "print(\"Merged shape:\", merged_df.shape)\n",
        "print(\"Sample with Sentiment:\", merged_df[['date', 'Sentiment']].dropna().head())\n",
        "print(\"Unique Sentiments:\", merged_df['Sentiment'].dropna().unique())"
      ],
      "metadata": {
        "colab": {
          "base_uri": "https://localhost:8080/"
        },
        "id": "9bJPytn_wNzY",
        "outputId": "8699c94b-aeab-4444-a7fa-00979db4b4db"
      },
      "execution_count": 58,
      "outputs": [
        {
          "output_type": "stream",
          "name": "stdout",
          "text": [
            "Merged shape: (211224, 18)\n",
            "Sample with Sentiment:          date      Sentiment\n",
            "0  2024-12-02  Extreme Greed\n",
            "1  2024-12-02  Extreme Greed\n",
            "2  2024-12-02  Extreme Greed\n",
            "3  2024-12-02  Extreme Greed\n",
            "4  2024-12-02  Extreme Greed\n",
            "Unique Sentiments: ['Extreme Greed' 'Extreme Fear' 'Fear' 'Greed' 'Neutral']\n"
          ]
        }
      ]
    },
    {
      "cell_type": "code",
      "source": [
        "print(\"Sentiment data date range:\", sentiment_df['date'].min(), \"to\", sentiment_df['date'].max())"
      ],
      "metadata": {
        "colab": {
          "base_uri": "https://localhost:8080/"
        },
        "id": "641enkurxLCI",
        "outputId": "becd8423-c43a-433d-8600-fdec561a3c30"
      },
      "execution_count": 52,
      "outputs": [
        {
          "output_type": "stream",
          "name": "stdout",
          "text": [
            "Sentiment data date range: nan to nan\n"
          ]
        }
      ]
    },
    {
      "cell_type": "markdown",
      "source": [
        "**3: Preprocess and Merge with Sentiment**"
      ],
      "metadata": {
        "id": "Ni9lsqghkhsf"
      }
    },
    {
      "cell_type": "code",
      "source": [
        "# Load datasets\n",
        "historical_df = pd.read_csv(\"historical_data.csv\")\n",
        "sentiment_df = pd.read_csv(\"fear_greed_index.csv\")\n",
        "\n",
        "# Convert 'Timestamp' column to datetime and extract date\n",
        "historical_df['Timestamp'] = pd.to_datetime(historical_df['Timestamp'])\n",
        "historical_df['date'] = historical_df['Timestamp'].dt.date\n",
        "\n",
        "# Sentiment data already has 'date' and 'classification'\n",
        "# Merge on date\n",
        "merged_df = pd.merge(historical_df, sentiment_df[['date', 'classification']], on='date', how='left')\n",
        "\n",
        "# Optional: Rename for clarity\n",
        "merged_df.rename(columns={'classification': 'Sentiment'}, inplace=True)\n",
        "\n",
        "# Preview merged data\n",
        "merged_df.head()"
      ],
      "metadata": {
        "colab": {
          "base_uri": "https://localhost:8080/",
          "height": 417
        },
        "id": "QvX9RpE2kl3N",
        "outputId": "023d560c-aafc-4750-f958-438b894412d5"
      },
      "execution_count": 57,
      "outputs": [
        {
          "output_type": "execute_result",
          "data": {
            "text/plain": [
              "                                      Account  Coin  Execution Price  \\\n",
              "0  0xae5eacaf9c6b9111fd53034a602c192a04e082ed  @107           7.9769   \n",
              "1  0xae5eacaf9c6b9111fd53034a602c192a04e082ed  @107           7.9800   \n",
              "2  0xae5eacaf9c6b9111fd53034a602c192a04e082ed  @107           7.9855   \n",
              "3  0xae5eacaf9c6b9111fd53034a602c192a04e082ed  @107           7.9874   \n",
              "4  0xae5eacaf9c6b9111fd53034a602c192a04e082ed  @107           7.9894   \n",
              "\n",
              "   Size Tokens  Size USD Side     Timestamp IST  Start Position Direction  \\\n",
              "0       986.87   7872.16  BUY  02-12-2024 22:50        0.000000       Buy   \n",
              "1        16.00    127.68  BUY  02-12-2024 22:50      986.524596       Buy   \n",
              "2       144.09   1150.63  BUY  02-12-2024 22:50     1002.518996       Buy   \n",
              "3       142.98   1142.04  BUY  02-12-2024 22:50     1146.558564       Buy   \n",
              "4         8.73     69.75  BUY  02-12-2024 22:50     1289.488521       Buy   \n",
              "\n",
              "   Closed PnL                                   Transaction Hash     Order ID  \\\n",
              "0         0.0  0xec09451986a1874e3a980418412fcd0201f500c95bac...  52017706630   \n",
              "1         0.0  0xec09451986a1874e3a980418412fcd0201f500c95bac...  52017706630   \n",
              "2         0.0  0xec09451986a1874e3a980418412fcd0201f500c95bac...  52017706630   \n",
              "3         0.0  0xec09451986a1874e3a980418412fcd0201f500c95bac...  52017706630   \n",
              "4         0.0  0xec09451986a1874e3a980418412fcd0201f500c95bac...  52017706630   \n",
              "\n",
              "   Crossed       Fee      Trade ID           Timestamp        date Sentiment  \n",
              "0     True  0.345404  8.950000e+14 1970-01-01 00:28:50  1970-01-01       NaN  \n",
              "1     True  0.005600  4.430000e+14 1970-01-01 00:28:50  1970-01-01       NaN  \n",
              "2     True  0.050431  6.600000e+14 1970-01-01 00:28:50  1970-01-01       NaN  \n",
              "3     True  0.050043  1.080000e+15 1970-01-01 00:28:50  1970-01-01       NaN  \n",
              "4     True  0.003055  1.050000e+15 1970-01-01 00:28:50  1970-01-01       NaN  "
            ],
            "text/html": [
              "\n",
              "  <div id=\"df-94056451-8cdb-4e24-8110-f4eadfbd0ac5\" class=\"colab-df-container\">\n",
              "    <div>\n",
              "<style scoped>\n",
              "    .dataframe tbody tr th:only-of-type {\n",
              "        vertical-align: middle;\n",
              "    }\n",
              "\n",
              "    .dataframe tbody tr th {\n",
              "        vertical-align: top;\n",
              "    }\n",
              "\n",
              "    .dataframe thead th {\n",
              "        text-align: right;\n",
              "    }\n",
              "</style>\n",
              "<table border=\"1\" class=\"dataframe\">\n",
              "  <thead>\n",
              "    <tr style=\"text-align: right;\">\n",
              "      <th></th>\n",
              "      <th>Account</th>\n",
              "      <th>Coin</th>\n",
              "      <th>Execution Price</th>\n",
              "      <th>Size Tokens</th>\n",
              "      <th>Size USD</th>\n",
              "      <th>Side</th>\n",
              "      <th>Timestamp IST</th>\n",
              "      <th>Start Position</th>\n",
              "      <th>Direction</th>\n",
              "      <th>Closed PnL</th>\n",
              "      <th>Transaction Hash</th>\n",
              "      <th>Order ID</th>\n",
              "      <th>Crossed</th>\n",
              "      <th>Fee</th>\n",
              "      <th>Trade ID</th>\n",
              "      <th>Timestamp</th>\n",
              "      <th>date</th>\n",
              "      <th>Sentiment</th>\n",
              "    </tr>\n",
              "  </thead>\n",
              "  <tbody>\n",
              "    <tr>\n",
              "      <th>0</th>\n",
              "      <td>0xae5eacaf9c6b9111fd53034a602c192a04e082ed</td>\n",
              "      <td>@107</td>\n",
              "      <td>7.9769</td>\n",
              "      <td>986.87</td>\n",
              "      <td>7872.16</td>\n",
              "      <td>BUY</td>\n",
              "      <td>02-12-2024 22:50</td>\n",
              "      <td>0.000000</td>\n",
              "      <td>Buy</td>\n",
              "      <td>0.0</td>\n",
              "      <td>0xec09451986a1874e3a980418412fcd0201f500c95bac...</td>\n",
              "      <td>52017706630</td>\n",
              "      <td>True</td>\n",
              "      <td>0.345404</td>\n",
              "      <td>8.950000e+14</td>\n",
              "      <td>1970-01-01 00:28:50</td>\n",
              "      <td>1970-01-01</td>\n",
              "      <td>NaN</td>\n",
              "    </tr>\n",
              "    <tr>\n",
              "      <th>1</th>\n",
              "      <td>0xae5eacaf9c6b9111fd53034a602c192a04e082ed</td>\n",
              "      <td>@107</td>\n",
              "      <td>7.9800</td>\n",
              "      <td>16.00</td>\n",
              "      <td>127.68</td>\n",
              "      <td>BUY</td>\n",
              "      <td>02-12-2024 22:50</td>\n",
              "      <td>986.524596</td>\n",
              "      <td>Buy</td>\n",
              "      <td>0.0</td>\n",
              "      <td>0xec09451986a1874e3a980418412fcd0201f500c95bac...</td>\n",
              "      <td>52017706630</td>\n",
              "      <td>True</td>\n",
              "      <td>0.005600</td>\n",
              "      <td>4.430000e+14</td>\n",
              "      <td>1970-01-01 00:28:50</td>\n",
              "      <td>1970-01-01</td>\n",
              "      <td>NaN</td>\n",
              "    </tr>\n",
              "    <tr>\n",
              "      <th>2</th>\n",
              "      <td>0xae5eacaf9c6b9111fd53034a602c192a04e082ed</td>\n",
              "      <td>@107</td>\n",
              "      <td>7.9855</td>\n",
              "      <td>144.09</td>\n",
              "      <td>1150.63</td>\n",
              "      <td>BUY</td>\n",
              "      <td>02-12-2024 22:50</td>\n",
              "      <td>1002.518996</td>\n",
              "      <td>Buy</td>\n",
              "      <td>0.0</td>\n",
              "      <td>0xec09451986a1874e3a980418412fcd0201f500c95bac...</td>\n",
              "      <td>52017706630</td>\n",
              "      <td>True</td>\n",
              "      <td>0.050431</td>\n",
              "      <td>6.600000e+14</td>\n",
              "      <td>1970-01-01 00:28:50</td>\n",
              "      <td>1970-01-01</td>\n",
              "      <td>NaN</td>\n",
              "    </tr>\n",
              "    <tr>\n",
              "      <th>3</th>\n",
              "      <td>0xae5eacaf9c6b9111fd53034a602c192a04e082ed</td>\n",
              "      <td>@107</td>\n",
              "      <td>7.9874</td>\n",
              "      <td>142.98</td>\n",
              "      <td>1142.04</td>\n",
              "      <td>BUY</td>\n",
              "      <td>02-12-2024 22:50</td>\n",
              "      <td>1146.558564</td>\n",
              "      <td>Buy</td>\n",
              "      <td>0.0</td>\n",
              "      <td>0xec09451986a1874e3a980418412fcd0201f500c95bac...</td>\n",
              "      <td>52017706630</td>\n",
              "      <td>True</td>\n",
              "      <td>0.050043</td>\n",
              "      <td>1.080000e+15</td>\n",
              "      <td>1970-01-01 00:28:50</td>\n",
              "      <td>1970-01-01</td>\n",
              "      <td>NaN</td>\n",
              "    </tr>\n",
              "    <tr>\n",
              "      <th>4</th>\n",
              "      <td>0xae5eacaf9c6b9111fd53034a602c192a04e082ed</td>\n",
              "      <td>@107</td>\n",
              "      <td>7.9894</td>\n",
              "      <td>8.73</td>\n",
              "      <td>69.75</td>\n",
              "      <td>BUY</td>\n",
              "      <td>02-12-2024 22:50</td>\n",
              "      <td>1289.488521</td>\n",
              "      <td>Buy</td>\n",
              "      <td>0.0</td>\n",
              "      <td>0xec09451986a1874e3a980418412fcd0201f500c95bac...</td>\n",
              "      <td>52017706630</td>\n",
              "      <td>True</td>\n",
              "      <td>0.003055</td>\n",
              "      <td>1.050000e+15</td>\n",
              "      <td>1970-01-01 00:28:50</td>\n",
              "      <td>1970-01-01</td>\n",
              "      <td>NaN</td>\n",
              "    </tr>\n",
              "  </tbody>\n",
              "</table>\n",
              "</div>\n",
              "    <div class=\"colab-df-buttons\">\n",
              "\n",
              "  <div class=\"colab-df-container\">\n",
              "    <button class=\"colab-df-convert\" onclick=\"convertToInteractive('df-94056451-8cdb-4e24-8110-f4eadfbd0ac5')\"\n",
              "            title=\"Convert this dataframe to an interactive table.\"\n",
              "            style=\"display:none;\">\n",
              "\n",
              "  <svg xmlns=\"http://www.w3.org/2000/svg\" height=\"24px\" viewBox=\"0 -960 960 960\">\n",
              "    <path d=\"M120-120v-720h720v720H120Zm60-500h600v-160H180v160Zm220 220h160v-160H400v160Zm0 220h160v-160H400v160ZM180-400h160v-160H180v160Zm440 0h160v-160H620v160ZM180-180h160v-160H180v160Zm440 0h160v-160H620v160Z\"/>\n",
              "  </svg>\n",
              "    </button>\n",
              "\n",
              "  <style>\n",
              "    .colab-df-container {\n",
              "      display:flex;\n",
              "      gap: 12px;\n",
              "    }\n",
              "\n",
              "    .colab-df-convert {\n",
              "      background-color: #E8F0FE;\n",
              "      border: none;\n",
              "      border-radius: 50%;\n",
              "      cursor: pointer;\n",
              "      display: none;\n",
              "      fill: #1967D2;\n",
              "      height: 32px;\n",
              "      padding: 0 0 0 0;\n",
              "      width: 32px;\n",
              "    }\n",
              "\n",
              "    .colab-df-convert:hover {\n",
              "      background-color: #E2EBFA;\n",
              "      box-shadow: 0px 1px 2px rgba(60, 64, 67, 0.3), 0px 1px 3px 1px rgba(60, 64, 67, 0.15);\n",
              "      fill: #174EA6;\n",
              "    }\n",
              "\n",
              "    .colab-df-buttons div {\n",
              "      margin-bottom: 4px;\n",
              "    }\n",
              "\n",
              "    [theme=dark] .colab-df-convert {\n",
              "      background-color: #3B4455;\n",
              "      fill: #D2E3FC;\n",
              "    }\n",
              "\n",
              "    [theme=dark] .colab-df-convert:hover {\n",
              "      background-color: #434B5C;\n",
              "      box-shadow: 0px 1px 3px 1px rgba(0, 0, 0, 0.15);\n",
              "      filter: drop-shadow(0px 1px 2px rgba(0, 0, 0, 0.3));\n",
              "      fill: #FFFFFF;\n",
              "    }\n",
              "  </style>\n",
              "\n",
              "    <script>\n",
              "      const buttonEl =\n",
              "        document.querySelector('#df-94056451-8cdb-4e24-8110-f4eadfbd0ac5 button.colab-df-convert');\n",
              "      buttonEl.style.display =\n",
              "        google.colab.kernel.accessAllowed ? 'block' : 'none';\n",
              "\n",
              "      async function convertToInteractive(key) {\n",
              "        const element = document.querySelector('#df-94056451-8cdb-4e24-8110-f4eadfbd0ac5');\n",
              "        const dataTable =\n",
              "          await google.colab.kernel.invokeFunction('convertToInteractive',\n",
              "                                                    [key], {});\n",
              "        if (!dataTable) return;\n",
              "\n",
              "        const docLinkHtml = 'Like what you see? Visit the ' +\n",
              "          '<a target=\"_blank\" href=https://colab.research.google.com/notebooks/data_table.ipynb>data table notebook</a>'\n",
              "          + ' to learn more about interactive tables.';\n",
              "        element.innerHTML = '';\n",
              "        dataTable['output_type'] = 'display_data';\n",
              "        await google.colab.output.renderOutput(dataTable, element);\n",
              "        const docLink = document.createElement('div');\n",
              "        docLink.innerHTML = docLinkHtml;\n",
              "        element.appendChild(docLink);\n",
              "      }\n",
              "    </script>\n",
              "  </div>\n",
              "\n",
              "\n",
              "    <div id=\"df-bdcd873d-7b01-4e0e-b8b0-f14b07f5bba7\">\n",
              "      <button class=\"colab-df-quickchart\" onclick=\"quickchart('df-bdcd873d-7b01-4e0e-b8b0-f14b07f5bba7')\"\n",
              "                title=\"Suggest charts\"\n",
              "                style=\"display:none;\">\n",
              "\n",
              "<svg xmlns=\"http://www.w3.org/2000/svg\" height=\"24px\"viewBox=\"0 0 24 24\"\n",
              "     width=\"24px\">\n",
              "    <g>\n",
              "        <path d=\"M19 3H5c-1.1 0-2 .9-2 2v14c0 1.1.9 2 2 2h14c1.1 0 2-.9 2-2V5c0-1.1-.9-2-2-2zM9 17H7v-7h2v7zm4 0h-2V7h2v10zm4 0h-2v-4h2v4z\"/>\n",
              "    </g>\n",
              "</svg>\n",
              "      </button>\n",
              "\n",
              "<style>\n",
              "  .colab-df-quickchart {\n",
              "      --bg-color: #E8F0FE;\n",
              "      --fill-color: #1967D2;\n",
              "      --hover-bg-color: #E2EBFA;\n",
              "      --hover-fill-color: #174EA6;\n",
              "      --disabled-fill-color: #AAA;\n",
              "      --disabled-bg-color: #DDD;\n",
              "  }\n",
              "\n",
              "  [theme=dark] .colab-df-quickchart {\n",
              "      --bg-color: #3B4455;\n",
              "      --fill-color: #D2E3FC;\n",
              "      --hover-bg-color: #434B5C;\n",
              "      --hover-fill-color: #FFFFFF;\n",
              "      --disabled-bg-color: #3B4455;\n",
              "      --disabled-fill-color: #666;\n",
              "  }\n",
              "\n",
              "  .colab-df-quickchart {\n",
              "    background-color: var(--bg-color);\n",
              "    border: none;\n",
              "    border-radius: 50%;\n",
              "    cursor: pointer;\n",
              "    display: none;\n",
              "    fill: var(--fill-color);\n",
              "    height: 32px;\n",
              "    padding: 0;\n",
              "    width: 32px;\n",
              "  }\n",
              "\n",
              "  .colab-df-quickchart:hover {\n",
              "    background-color: var(--hover-bg-color);\n",
              "    box-shadow: 0 1px 2px rgba(60, 64, 67, 0.3), 0 1px 3px 1px rgba(60, 64, 67, 0.15);\n",
              "    fill: var(--button-hover-fill-color);\n",
              "  }\n",
              "\n",
              "  .colab-df-quickchart-complete:disabled,\n",
              "  .colab-df-quickchart-complete:disabled:hover {\n",
              "    background-color: var(--disabled-bg-color);\n",
              "    fill: var(--disabled-fill-color);\n",
              "    box-shadow: none;\n",
              "  }\n",
              "\n",
              "  .colab-df-spinner {\n",
              "    border: 2px solid var(--fill-color);\n",
              "    border-color: transparent;\n",
              "    border-bottom-color: var(--fill-color);\n",
              "    animation:\n",
              "      spin 1s steps(1) infinite;\n",
              "  }\n",
              "\n",
              "  @keyframes spin {\n",
              "    0% {\n",
              "      border-color: transparent;\n",
              "      border-bottom-color: var(--fill-color);\n",
              "      border-left-color: var(--fill-color);\n",
              "    }\n",
              "    20% {\n",
              "      border-color: transparent;\n",
              "      border-left-color: var(--fill-color);\n",
              "      border-top-color: var(--fill-color);\n",
              "    }\n",
              "    30% {\n",
              "      border-color: transparent;\n",
              "      border-left-color: var(--fill-color);\n",
              "      border-top-color: var(--fill-color);\n",
              "      border-right-color: var(--fill-color);\n",
              "    }\n",
              "    40% {\n",
              "      border-color: transparent;\n",
              "      border-right-color: var(--fill-color);\n",
              "      border-top-color: var(--fill-color);\n",
              "    }\n",
              "    60% {\n",
              "      border-color: transparent;\n",
              "      border-right-color: var(--fill-color);\n",
              "    }\n",
              "    80% {\n",
              "      border-color: transparent;\n",
              "      border-right-color: var(--fill-color);\n",
              "      border-bottom-color: var(--fill-color);\n",
              "    }\n",
              "    90% {\n",
              "      border-color: transparent;\n",
              "      border-bottom-color: var(--fill-color);\n",
              "    }\n",
              "  }\n",
              "</style>\n",
              "\n",
              "      <script>\n",
              "        async function quickchart(key) {\n",
              "          const quickchartButtonEl =\n",
              "            document.querySelector('#' + key + ' button');\n",
              "          quickchartButtonEl.disabled = true;  // To prevent multiple clicks.\n",
              "          quickchartButtonEl.classList.add('colab-df-spinner');\n",
              "          try {\n",
              "            const charts = await google.colab.kernel.invokeFunction(\n",
              "                'suggestCharts', [key], {});\n",
              "          } catch (error) {\n",
              "            console.error('Error during call to suggestCharts:', error);\n",
              "          }\n",
              "          quickchartButtonEl.classList.remove('colab-df-spinner');\n",
              "          quickchartButtonEl.classList.add('colab-df-quickchart-complete');\n",
              "        }\n",
              "        (() => {\n",
              "          let quickchartButtonEl =\n",
              "            document.querySelector('#df-bdcd873d-7b01-4e0e-b8b0-f14b07f5bba7 button');\n",
              "          quickchartButtonEl.style.display =\n",
              "            google.colab.kernel.accessAllowed ? 'block' : 'none';\n",
              "        })();\n",
              "      </script>\n",
              "    </div>\n",
              "\n",
              "    </div>\n",
              "  </div>\n"
            ],
            "application/vnd.google.colaboratory.intrinsic+json": {
              "type": "dataframe",
              "variable_name": "merged_df"
            }
          },
          "metadata": {},
          "execution_count": 57
        }
      ]
    },
    {
      "cell_type": "code",
      "source": [
        "print(trader_df['date'].head())\n",
        "print(sentiment_df['date'].head())\n",
        "print(trader_df['date'].dtype)\n",
        "print(sentiment_df['date'].dtype)"
      ],
      "metadata": {
        "colab": {
          "base_uri": "https://localhost:8080/"
        },
        "id": "_yliqvasv01W",
        "outputId": "5523f28d-3ee6-442a-d3c4-d542be5e922f"
      },
      "execution_count": 49,
      "outputs": [
        {
          "output_type": "stream",
          "name": "stdout",
          "text": [
            "0    2024-12-02\n",
            "1    2024-12-02\n",
            "2    2024-12-02\n",
            "3    2024-12-02\n",
            "4    2024-12-02\n",
            "Name: date, dtype: object\n",
            "0    2018-02-01\n",
            "1    2018-02-02\n",
            "2    2018-02-03\n",
            "3    2018-02-04\n",
            "4    2018-02-05\n",
            "Name: date, dtype: object\n",
            "object\n",
            "object\n"
          ]
        }
      ]
    },
    {
      "cell_type": "markdown",
      "source": [
        "Clean the Merged data"
      ],
      "metadata": {
        "id": "-JY2OnRztAT-"
      }
    },
    {
      "cell_type": "code",
      "source": [
        "# Drop missing PnL values\n",
        "merged_df = merged_df[merged_df['Closed PnL'].notna()]\n",
        "\n",
        "# Ensure numeric PnL\n",
        "merged_df['Closed PnL'] = pd.to_numeric(merged_df['Closed PnL'], errors='coerce')\n",
        "\n",
        "# Drop rows with NaN in Closed PnL after conversion\n",
        "merged_df = merged_df.dropna(subset=['Closed PnL'])\n",
        "\n",
        "# Remove empty or invalid Sentiment values\n",
        "merged_df = merged_df[merged_df['Sentiment'].astype(str).str.strip().isin(['Fear', 'Greed'])]\n",
        "\n",
        "print(\"Cleaned merged_df shape:\", merged_df.shape)"
      ],
      "metadata": {
        "colab": {
          "base_uri": "https://localhost:8080/"
        },
        "id": "oZxaJenztCoE",
        "outputId": "91740dbb-fe45-4344-811a-56eed430dfff"
      },
      "execution_count": 48,
      "outputs": [
        {
          "output_type": "stream",
          "name": "stdout",
          "text": [
            "Cleaned merged_df shape: (0, 18)\n"
          ]
        }
      ]
    },
    {
      "cell_type": "code",
      "source": [
        "# Check for rows with missing PnL or invalid values\n",
        "print(merged_df['Closed PnL'].isna().sum())  # Number of missing PnL values\n",
        "print(merged_df['Sentiment'].isna().sum())   # Number of missing Sentiment values\n",
        "print(merged_df['Sentiment'].unique())       # Unique values in Sentiment column\n",
        "\n",
        "# Check the values of 'Closed PnL' before and after conversion to numeric\n",
        "print(merged_df['Closed PnL'].head())"
      ],
      "metadata": {
        "colab": {
          "base_uri": "https://localhost:8080/"
        },
        "id": "5fJfe2__tas_",
        "outputId": "28a90d27-a855-4997-f088-734070036436"
      },
      "execution_count": 37,
      "outputs": [
        {
          "output_type": "stream",
          "name": "stdout",
          "text": [
            "0\n",
            "0\n",
            "[]\n",
            "Series([], Name: Closed PnL, dtype: float64)\n"
          ]
        }
      ]
    },
    {
      "cell_type": "markdown",
      "source": [
        "**4: Summary Statistics by Sentiment**"
      ],
      "metadata": {
        "id": "8oMw_3xfllme"
      }
    },
    {
      "cell_type": "code",
      "source": [
        "# Summary statistics for PnL under different sentiment\n",
        "pnl_summary = merged_df.groupby('Sentiment')['Closed PnL'].describe()\n",
        "print(\"Closed PnL Summary by Sentiment:\")\n",
        "print(pnl_summary)"
      ],
      "metadata": {
        "colab": {
          "base_uri": "https://localhost:8080/"
        },
        "id": "XKB1KA5El1Z3",
        "outputId": "d9812dfe-e770-4268-afc5-6e14a0adc19e"
      },
      "execution_count": 59,
      "outputs": [
        {
          "output_type": "stream",
          "name": "stdout",
          "text": [
            "Closed PnL Summary by Sentiment:\n",
            "                 count       mean          std           min  25%  50%  \\\n",
            "Sentiment                                                                \n",
            "Extreme Fear   21400.0  34.537862  1136.056091  -31036.69194  0.0  0.0   \n",
            "Extreme Greed  39992.0  67.892861   766.828294  -10259.46800  0.0  0.0   \n",
            "Fear           61837.0  54.290400   935.355438  -35681.74723  0.0  0.0   \n",
            "Greed          50303.0  42.743559  1116.028390 -117990.10410  0.0  0.0   \n",
            "Neutral        37686.0  34.307718   517.122220  -24500.00000  0.0  0.0   \n",
            "\n",
            "                     75%           max  \n",
            "Sentiment                               \n",
            "Extreme Fear    5.635032  115287.00000  \n",
            "Extreme Greed  10.028709   44223.45187  \n",
            "Fear            5.590856  135329.09010  \n",
            "Greed           4.944105   74530.52371  \n",
            "Neutral         3.995795   48504.09555  \n"
          ]
        }
      ]
    },
    {
      "cell_type": "code",
      "source": [
        "print(merged_df['Closed PnL'].unique())  # Check if there is variation in PnL\n",
        "print(merged_df['Sentiment'].unique())   # Check unique values in Sentiment"
      ],
      "metadata": {
        "colab": {
          "base_uri": "https://localhost:8080/"
        },
        "id": "sRXYZNbEukun",
        "outputId": "cbad1b33-b723-4551-a0a1-07aa200eac07"
      },
      "execution_count": 41,
      "outputs": [
        {
          "output_type": "stream",
          "name": "stdout",
          "text": [
            "[]\n",
            "[]\n"
          ]
        }
      ]
    },
    {
      "cell_type": "markdown",
      "source": [
        "**5: Visualizing PnL Distribution by Sentiment**"
      ],
      "metadata": {
        "id": "fFJom2t8l5Ts"
      }
    },
    {
      "cell_type": "code",
      "source": [
        "import seaborn as sns\n",
        "import matplotlib.pyplot as plt\n",
        "\n",
        "plt.figure(figsize=(10,6))\n",
        "sns.boxplot(data=merged_df, x='Sentiment', y='Closed PnL', palette='coolwarm')\n",
        "plt.title('Closed PnL Distribution by Market Sentiment')\n",
        "plt.grid(True)\n",
        "plt.tight_layout()\n",
        "plt.savefig(\"pnl_by_sentiment.png\")\n",
        "plt.show()"
      ],
      "metadata": {
        "colab": {
          "base_uri": "https://localhost:8080/",
          "height": 708
        },
        "id": "JR0lrlUJl90-",
        "outputId": "8840813c-1add-421a-c1a5-76861529af5a"
      },
      "execution_count": 60,
      "outputs": [
        {
          "output_type": "stream",
          "name": "stderr",
          "text": [
            "<ipython-input-60-833315fff803>:5: FutureWarning: \n",
            "\n",
            "Passing `palette` without assigning `hue` is deprecated and will be removed in v0.14.0. Assign the `x` variable to `hue` and set `legend=False` for the same effect.\n",
            "\n",
            "  sns.boxplot(data=merged_df, x='Sentiment', y='Closed PnL', palette='coolwarm')\n"
          ]
        },
        {
          "output_type": "display_data",
          "data": {
            "text/plain": [
              "<Figure size 1000x600 with 1 Axes>"
            ],
            "image/png": "[encoded data removed]"
          },
          "metadata": {}
        }
      ]
    },
    {
      "cell_type": "markdown",
      "source": [
        "**6: Top Trader Behavior Under Different Sentiments**"
      ],
      "metadata": {
        "id": "jatbwTGxm4IC"
      }
    },
    {
      "cell_type": "code",
      "source": [
        "# Identify top 5 accounts by total PnL\n",
        "top_accounts = merged_df.groupby('Account')['Closed PnL'].sum().nlargest(5).index\n",
        "\n",
        "# Filter for these accounts\n",
        "top_df = merged_df[merged_df['Account'].isin(top_accounts)]\n",
        "\n",
        "# Compare average size and PnL under different sentiments\n",
        "top_behavior = top_df.groupby(['Account', 'Sentiment'])[['Size USD', 'Closed PnL']].mean().round(2)\n",
        "print(\"Top Trader Behavior (Avg Size & PnL) by Sentiment:\")\n",
        "print(top_behavior)"
      ],
      "metadata": {
        "colab": {
          "base_uri": "https://localhost:8080/"
        },
        "id": "Cf1jg7T3m537",
        "outputId": "fad09820-d9fc-41f7-9259-09a49b8925a0"
      },
      "execution_count": 61,
      "outputs": [
        {
          "output_type": "stream",
          "name": "stdout",
          "text": [
            "Top Trader Behavior (Avg Size & PnL) by Sentiment:\n",
            "                                                          Size USD  Closed PnL\n",
            "Account                                    Sentiment                          \n",
            "0x083384f897ee0f19899168e3b1bec365f52a9012 Extreme Fear   15071.01     1247.69\n",
            "                                           Extreme Greed  12080.27      -42.63\n",
            "                                           Fear           17020.49      626.19\n",
            "                                           Greed          15134.13      482.09\n",
            "                                           Neutral        23337.00      298.46\n",
            "0x513b8629fe877bb581bf244e326a047b249c4ff1 Extreme Fear    9644.02     -205.55\n",
            "                                           Extreme Greed   3261.58        0.00\n",
            "                                           Fear           37633.68       61.39\n",
            "                                           Greed          38497.73       51.45\n",
            "                                           Neutral        27702.05      151.50\n",
            "0xb1231a4a2dd02f2276fa3c5e2a2f3436e6bfed23 Extreme Fear    1679.10       12.92\n",
            "                                           Extreme Greed   3141.53      672.74\n",
            "                                           Fear            1594.69       31.00\n",
            "                                           Greed           6161.49       90.69\n",
            "                                           Neutral         2621.97      116.09\n",
            "0xbaaaf6571ab7d571043ff1e313a9609a10637864 Extreme Fear    4447.52       58.46\n",
            "                                           Fear            3275.30       49.92\n",
            "                                           Greed             71.23        0.93\n",
            "                                           Neutral         1727.43       13.44\n",
            "0xbee1707d6b44d4d52bfe19e41f8a828645437aab Extreme Fear    1445.73        6.06\n",
            "                                           Extreme Greed   2458.41       71.22\n",
            "                                           Fear            1503.42        4.34\n",
            "                                           Greed           2398.69       33.17\n",
            "                                           Neutral         1625.91        3.33\n"
          ]
        }
      ]
    },
    {
      "cell_type": "code",
      "source": [
        "# Convert PnL to numeric, remove invalids\n",
        "merged_df['Closed PnL'] = pd.to_numeric(merged_df['Closed PnL'], errors='coerce')\n",
        "filtered_df = merged_df.dropna(subset=['Closed PnL', 'Sentiment'])\n",
        "\n",
        "# Optional: Simplify sentiment\n",
        "sentiment_map = {\n",
        "    'Extreme Fear': 'Fear',\n",
        "    'Fear': 'Fear',\n",
        "    'Neutral': 'Neutral',\n",
        "    'Greed': 'Greed',\n",
        "    'Extreme Greed': 'Greed'\n",
        "}\n",
        "filtered_df['Sentiment'] = filtered_df['Sentiment'].map(sentiment_map)"
      ],
      "metadata": {
        "colab": {
          "base_uri": "https://localhost:8080/"
        },
        "id": "djWolaIIzrIt",
        "outputId": "47c40873-4112-462e-aada-274bd2cf6286"
      },
      "execution_count": 67,
      "outputs": [
        {
          "output_type": "stream",
          "name": "stderr",
          "text": [
            "<ipython-input-67-3f55f69c1e2f>:13: SettingWithCopyWarning: \n",
            "A value is trying to be set on a copy of a slice from a DataFrame.\n",
            "Try using .loc[row_indexer,col_indexer] = value instead\n",
            "\n",
            "See the caveats in the documentation: https://pandas.pydata.org/pandas-docs/stable/user_guide/indexing.html#returning-a-view-versus-a-copy\n",
            "  filtered_df['Sentiment'] = filtered_df['Sentiment'].map(sentiment_map)\n"
          ]
        }
      ]
    },
    {
      "cell_type": "markdown",
      "source": [
        "**7: PnL Volatility Comparison**"
      ],
      "metadata": {
        "id": "CdbEdcJ_nCRa"
      }
    },
    {
      "cell_type": "code",
      "source": [
        "# Calculate standard deviation of PnL per sentiment\n",
        "pnl_volatility = merged_df.groupby('Sentiment')['Closed PnL'].std()\n",
        "print(\"PnL Volatility by Sentiment:\")\n",
        "print(pnl_volatility)"
      ],
      "metadata": {
        "colab": {
          "base_uri": "https://localhost:8080/"
        },
        "id": "vnph8P33nAIa",
        "outputId": "9ae08623-4c95-451b-c7b2-4ff73aae1229"
      },
      "execution_count": 68,
      "outputs": [
        {
          "output_type": "stream",
          "name": "stdout",
          "text": [
            "PnL Volatility by Sentiment:\n",
            "Sentiment\n",
            "Extreme Fear     1136.056091\n",
            "Extreme Greed     766.828294\n",
            "Fear              935.355438\n",
            "Greed            1116.028390\n",
            "Neutral           517.122220\n",
            "Name: Closed PnL, dtype: float64\n"
          ]
        }
      ]
    },
    {
      "cell_type": "code",
      "source": [
        "plt.figure(figsize=(10, 6))\n",
        "sns.boxplot(data=filtered_df, x='Sentiment', y='Closed PnL', palette='coolwarm')\n",
        "plt.title('PnL Distribution by Sentiment')\n",
        "plt.grid(True)\n",
        "plt.tight_layout()\n",
        "plt.savefig(\"pnl_by_sentiment.png\")\n",
        "plt.show()"
      ],
      "metadata": {
        "colab": {
          "base_uri": "https://localhost:8080/",
          "height": 708
        },
        "id": "h095yN4dzkz2",
        "outputId": "d68104d6-b6ea-4fd6-b5aa-1d6d7f021e43"
      },
      "execution_count": 69,
      "outputs": [
        {
          "output_type": "stream",
          "name": "stderr",
          "text": [
            "<ipython-input-69-b5b9f91396f4>:2: FutureWarning: \n",
            "\n",
            "Passing `palette` without assigning `hue` is deprecated and will be removed in v0.14.0. Assign the `x` variable to `hue` and set `legend=False` for the same effect.\n",
            "\n",
            "  sns.boxplot(data=filtered_df, x='Sentiment', y='Closed PnL', palette='coolwarm')\n"
          ]
        },
        {
          "output_type": "display_data",
          "data": {
            "text/plain": [
              "<Figure size 1000x600 with 1 Axes>"
            ],
            "image/png": "[encoded data removed]"
          },
          "metadata": {}
        }
      ]
    },
    {
      "cell_type": "markdown",
      "source": [
        "**8: Leverage Distribution Visualization**"
      ],
      "metadata": {
        "id": "aL1VEaKWypG5"
      }
    },
    {
      "cell_type": "code",
      "source": [
        "# Compute leverage (approximate)\n",
        "filtered_df['Leverage'] = filtered_df['Size USD'] / filtered_df['Size Tokens']\n",
        "filtered_df = filtered_df.replace([np.inf, -np.inf], np.nan).dropna(subset=['Leverage'])\n",
        "\n",
        "plt.figure(figsize=(10, 6))\n",
        "sns.histplot(filtered_df['Leverage'], bins=50, kde=True, color='purple')\n",
        "plt.title('Leverage Distribution')\n",
        "plt.xlabel('Leverage (Size USD / Tokens)')\n",
        "plt.grid(True)\n",
        "plt.tight_layout()\n",
        "plt.savefig(\"leverage_distribution.png\")\n",
        "plt.show()"
      ],
      "metadata": {
        "colab": {
          "base_uri": "https://localhost:8080/",
          "height": 705
        },
        "id": "zmhhqWhiyr_c",
        "outputId": "de8efe51-0f75-451f-a4f5-5c6959639898"
      },
      "execution_count": 70,
      "outputs": [
        {
          "output_type": "stream",
          "name": "stderr",
          "text": [
            "<ipython-input-70-3fe369af95cb>:2: SettingWithCopyWarning: \n",
            "A value is trying to be set on a copy of a slice from a DataFrame.\n",
            "Try using .loc[row_indexer,col_indexer] = value instead\n",
            "\n",
            "See the caveats in the documentation: https://pandas.pydata.org/pandas-docs/stable/user_guide/indexing.html#returning-a-view-versus-a-copy\n",
            "  filtered_df['Leverage'] = filtered_df['Size USD'] / filtered_df['Size Tokens']\n"
          ]
        },
        {
          "output_type": "display_data",
          "data": {
            "text/plain": [
              "<Figure size 1000x600 with 1 Axes>"
            ],
            "image/png": "[encoded data removed]"
          },
          "metadata": {}
        }
      ]
    },
    {
      "cell_type": "markdown",
      "source": [
        "**9: Trader-Level Behavior Analysi**s"
      ],
      "metadata": {
        "id": "zUbkNTQIz3b5"
      }
    },
    {
      "cell_type": "code",
      "source": [
        "# Group by trader\n",
        "trader_stats = filtered_df.groupby('Account').agg({\n",
        "    'Closed PnL': ['mean', 'sum'],\n",
        "    'Sentiment': lambda x: x.mode()[0] if not x.mode().empty else None,\n",
        "    'Side': lambda x: x.mode()[0] if not x.mode().empty else None\n",
        "}).reset_index()\n",
        "\n",
        "trader_stats.columns = ['Account', 'Avg_PnL', 'Total_PnL', 'Most_Common_Sentiment', 'Preferred_Side']\n",
        "print(trader_stats.head())"
      ],
      "metadata": {
        "colab": {
          "base_uri": "https://localhost:8080/"
        },
        "id": "HA3MUBHnz-JG",
        "outputId": "d224626f-1b8d-4107-fcbe-a67d81938745"
      },
      "execution_count": 71,
      "outputs": [
        {
          "output_type": "stream",
          "name": "stdout",
          "text": [
            "                                      Account     Avg_PnL     Total_PnL  \\\n",
            "0  0x083384f897ee0f19899168e3b1bec365f52a9012  419.127768  1.600230e+06   \n",
            "1  0x23e7a7f8d14b550961925fbfdaa92f5d195ba5bd    6.577654  4.788532e+04   \n",
            "2  0x271b280974205ca63b716753467d5a371de622ab  -18.492043 -7.043619e+04   \n",
            "3  0x28736f43f1e871e6aa8b1148d38d4994275d72c4    9.951530  1.324648e+05   \n",
            "4  0x2c229d22b100a7beb69122eed721cee9b24011dd   52.071011  1.686580e+05   \n",
            "\n",
            "  Most_Common_Sentiment Preferred_Side  \n",
            "0                  Fear           SELL  \n",
            "1                 Greed           SELL  \n",
            "2                  Fear           SELL  \n",
            "3                 Greed            BUY  \n",
            "4                 Greed           SELL  \n"
          ]
        }
      ]
    },
    {
      "cell_type": "markdown",
      "source": [
        " **10: Save Trader Summary to CSV**"
      ],
      "metadata": {
        "id": "_eU960l2nF_W"
      }
    },
    {
      "cell_type": "code",
      "source": [
        "trader_stats.to_csv(\"trader_behavior_summary.csv\", index=False)"
      ],
      "metadata": {
        "id": "e-ccAkMznLDO"
      },
      "execution_count": 72,
      "outputs": []
    }
  ]
}